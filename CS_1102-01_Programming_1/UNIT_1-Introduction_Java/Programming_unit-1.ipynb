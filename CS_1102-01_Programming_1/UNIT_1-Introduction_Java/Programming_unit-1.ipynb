{
 "cells": [
  {
   "cell_type": "markdown",
   "id": "ee3b7cbb",
   "metadata": {},
   "source": [
    "# Benewende Pierre BONKOUGOU"
   ]
  },
  {
   "cell_type": "markdown",
   "id": "d46ed28a",
   "metadata": {},
   "source": [
    "```java\n",
    "import java.util.Scanner;\n",
    "\n",
    "public class QuizGame {\n",
    "    public static void main(String[] args) {\n",
    "        Scanner scanner = new Scanner(System.in);\n",
    "\n",
    "        String[] questions = {\n",
    "                \"What is the capital of France?\",\n",
    "                \"Which planet is known as the Red Planet?\",\n",
    "                \"What is the largest mammal?\",\n",
    "                \"What is the powerhouse of the cell?\",\n",
    "                \"Who wrote 'Romeo and Juliet'?\"\n",
    "        };\n",
    "        String[] options = {\"A. Paris\", \"B. Rome\", \"C. Berlin\", \"D. Madrid\"};\n",
    "        char[] correctAnswers = {'A', 'C', 'B', 'D', 'E'};\n",
    "\n",
    "        int correctCount = 0;\n",
    "\n",
    "        for (int i = 0; i < questions.length; i++) {\n",
    "            System.out.println(questions[i]);\n",
    "            for (String option : options) {\n",
    "                System.out.println(option);\n",
    "            }\n",
    "\n",
    "            System.out.print(\"Your answer (A, B, C, or D): \");\n",
    "            char userAnswer = scanner.next().toUpperCase().charAt(0);\n",
    "\n",
    "            if (userAnswer == correctAnswers[i]) {\n",
    "                System.out.println(\"Correct!\\n\");\n",
    "                correctCount++;\n",
    "            } else {\n",
    "                System.out.println(\"Incorrect. The correct answer is \" + correctAnswers[i] + \".\\n\");\n",
    "            }\n",
    "        }\n",
    "\n",
    "        double percentage = (correctCount / (double) questions.length) * 100;\n",
    "        System.out.println(\"Quiz completed! Your final score: \" + correctCount + \" out of \" +\n",
    "                questions.length + \" (\" + percentage + \"%)\");\n",
    "\n",
    "        scanner.close();\n",
    "    }\n",
    "}\n",
    "```"
   ]
  },
  {
   "cell_type": "markdown",
   "id": "2fb6cc07",
   "metadata": {},
   "source": [
    "## Exemple de sortie possible :\n",
    "\n",
    "![Capture d'écran de la sortie](unit1.png)"
   ]
  },
  {
   "cell_type": "markdown",
   "id": "26fb93a3",
   "metadata": {},
   "source": [
    "### Explanation:\n",
    "\n",
    "1. The program uses a `Scanner` to take user input.\n",
    "\n",
    "2. Questions, options, and correct answers are stored in arrays.\n",
    "\n",
    "3. A loop is used to display each question, its options, and prompt the user for an answer.\n",
    "\n",
    "4. User input is validated to be a single character (A, B, C or D).\n",
    "\n",
    "5. The program checks if the user's answer is correct and updates the score accordingly.\n",
    "\n",
    "6. After all questions are answered, the final score is calculated and displayed.\n",
    "\n",
    "Make sure to test the program with different inputs to verify its correctness. Please replace the placeholder correct answers (`E`) with the actual correct answers for each question."
   ]
  },
  {
   "cell_type": "markdown",
   "id": "fbc1af03",
   "metadata": {},
   "source": [
    "## References\n",
    "\n",
    "- Eck, D. J. (2022). Introduction to programming using java version 9, JavaFX edition. Licensed under CC 4.0.\n",
    "\n",
    "- In Chapter 3 – Programming in the small II: Control; Read 3.3(The While and do... while statements), 3.4 (The for Statement), and 3.7 (Introduction to Exceptions and try...catch)\n"
   ]
  }
 ],
 "metadata": {
  "kernelspec": {
   "display_name": "Java",
   "language": "java",
   "name": "java"
  },
  "language_info": {
   "codemirror_mode": "java",
   "file_extension": ".jshell",
   "mimetype": "text/x-java-source",
   "name": "Java",
   "pygments_lexer": "java",
   "version": "21.0.2+13-LTS-58"
  }
 },
 "nbformat": 4,
 "nbformat_minor": 5
}
