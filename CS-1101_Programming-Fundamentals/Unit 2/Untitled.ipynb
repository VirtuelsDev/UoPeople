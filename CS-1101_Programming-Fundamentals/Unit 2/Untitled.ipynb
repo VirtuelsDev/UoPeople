{
 "cells": [
  {
   "cell_type": "markdown",
   "id": "994f1365",
   "metadata": {},
   "source": [
    "# Discussion Forum Unit 3\n",
    "<span style=\"font-family: 'Times New Roman'; font-size: 12pt;\">\n",
    "    Chained conditionals and nested conditionals are both structures used in programming for making decisions based on different conditions.\n",
    "<span>"
   ]
  },
  {
   "cell_type": "markdown",
   "id": "68dd19b0",
   "metadata": {},
   "source": [
    "## Chained Conditionals:\n",
    "<span style=\"font-family: 'Times New Roman'; font-size: 12pt;\">\n",
    "    In a chained conditional, multiple conditions are evaluated in sequence. If the first condition is false, the program moves on to evaluate the next condition, and so on. Here's an example:\n",
    "<span>"
   ]
  },
  {
   "cell_type": "code",
   "execution_count": 9,
   "id": "9eadcd35",
   "metadata": {},
   "outputs": [
    {
     "name": "stdout",
     "output_type": "stream",
     "text": [
      "5 is Positive\n",
      "-3 is Negative\n",
      "0 is Zero\n"
     ]
    }
   ],
   "source": [
    "def chained_example(x):\n",
    "    if x > 0:\n",
    "        print(f\"{x} is Positive\")\n",
    "    elif x < 0:\n",
    "        print(f\"{x} is Negative\")\n",
    "    else:\n",
    "        print(f\"{x} is Zero\")\n",
    "        \n",
    "# Example call\n",
    "chained_example(5)   # Output: Positive\n",
    "chained_example(-3)  # Output: Negative\n",
    "chained_example(0)   # Output: Zero"
   ]
  },
  {
   "cell_type": "markdown",
   "id": "0a4e5748",
   "metadata": {},
   "source": [
    "<span style=\"font-family: 'Times New Roman'; font-size: 12pt;\">\n",
    "   In this example, if x is greater than 0, it prints \"Positive.\" If x is less than 0, it prints \"Negative.\" If neither condition is met, it prints \"Zero.\" \n",
    "<span>"
   ]
  },
  {
   "cell_type": "markdown",
   "id": "02276aa8",
   "metadata": {},
   "source": [
    "## Nested Conditionals:\n",
    "<span style=\"font-family: 'Times New Roman'; font-size: 12pt;\">\n",
    "   In nested conditionals, an if statement is placed inside another if statement. The inner if statement is executed only if the outer if statement is true. Here's an example:\n",
    "<span>"
   ]
  },
  {
   "cell_type": "code",
   "execution_count": 18,
   "id": "2209d738",
   "metadata": {},
   "outputs": [
    {
     "name": "stdout",
     "output_type": "stream",
     "text": [
      "7 is Positive\n",
      " and Odd\n",
      "10 is Positive\n",
      " and Even\n",
      "-4 is No-positive\n"
     ]
    }
   ],
   "source": [
    "def nested_example(x):\n",
    "    if x > 0:\n",
    "        print(f\"{x} is Positive\")\n",
    "        if x % 2 == 0:\n",
    "            print(f\" and Even\")\n",
    "        else:\n",
    "            print(f\" and Odd\")\n",
    "    else:\n",
    "        print(f\"{x} is No-positive\")\n",
    "        \n",
    "# Example call\n",
    "nested_example(7)\n",
    "nested_example(10)\n",
    "nested_example(-4)"
   ]
  },
  {
   "cell_type": "markdown",
   "id": "878b0d10",
   "metadata": {},
   "source": [
    "<span style=\"font-family: 'Times New Roman'; font-size: 12pt;\">\n",
    "   In this example, if x is greater than 0, it prints \"Positive.\" Inside this block, it checks if x is even or odd. \n",
    "<span>"
   ]
  },
  {
   "cell_type": "markdown",
   "id": "f69193bc",
   "metadata": {},
   "source": [
    "## Avoiding Nested Conditionals:\n",
    "<span style=\"font-family: 'Times New Roman'; font-size: 12pt;\">\n",
    "    Nested conditionals can be avoided by restructuring the code to use logical operators. For example:\n",
    "<span>"
   ]
  },
  {
   "cell_type": "code",
   "execution_count": 19,
   "id": "20560e2b",
   "metadata": {},
   "outputs": [
    {
     "name": "stdout",
     "output_type": "stream",
     "text": [
      "7 is Positive and Odd\n",
      "10 is Positive and Even\n",
      "-4 is No-positive\n"
     ]
    }
   ],
   "source": [
    "def single_conditional_example(x):\n",
    "    if x > 0 and x % 2 == 0:\n",
    "        print(f\"{x} is Positive and Even\")\n",
    "    elif x > 0:\n",
    "        print(f\"{x} is Positive and Odd\")\n",
    "    else:\n",
    "        print(f\"{x} is No-positive\")\n",
    "\n",
    "# Example call\n",
    "single_conditional_example(7)\n",
    "single_conditional_example(10)\n",
    "single_conditional_example(-4)\n"
   ]
  },
  {
   "cell_type": "markdown",
   "id": "b5c1aba3",
   "metadata": {},
   "source": [
    "<span style=\"font-family: 'Times New Roman'; font-size: 12pt;\">\n",
    "    This single conditional accomplishes the same logic as the nested example.\n",
    "<span>"
   ]
  },
  {
   "cell_type": "markdown",
   "id": "29b39890",
   "metadata": {},
   "source": [
    "## Question for Discussion:\n",
    "<span style=\"font-family: 'Times New Roman'; font-size: 12pt;\">\n",
    "    How do you decide between using chained conditionals and nested conditionals in your code, considering readability and maintainability?\n",
    "<span>"
   ]
  },
  {
   "cell_type": "code",
   "execution_count": null,
   "id": "a727e0e5",
   "metadata": {},
   "outputs": [],
   "source": []
  }
 ],
 "metadata": {
  "kernelspec": {
   "display_name": "Python 3 (ipykernel)",
   "language": "python",
   "name": "python3"
  },
  "language_info": {
   "codemirror_mode": {
    "name": "ipython",
    "version": 3
   },
   "file_extension": ".py",
   "mimetype": "text/x-python",
   "name": "python",
   "nbconvert_exporter": "python",
   "pygments_lexer": "ipython3",
   "version": "3.10.9"
  }
 },
 "nbformat": 4,
 "nbformat_minor": 5
}
