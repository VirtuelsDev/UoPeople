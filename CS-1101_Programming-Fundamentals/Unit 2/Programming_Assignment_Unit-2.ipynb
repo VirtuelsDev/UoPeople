{
 "cells": [
  {
   "cell_type": "markdown",
   "id": "dd35181a",
   "metadata": {},
   "source": [
    "# Benewende Pierre BONKOUNGOU"
   ]
  },
  {
   "cell_type": "markdown",
   "id": "4cfef9eb",
   "metadata": {},
   "source": [
    "# Programming Assignment Unit 2\n",
    "\n",
    "## Part 1: Circumference Calculation\n",
    "<span style=\"font-family: 'Times New Roman'; font-size: 12pt;\">\n",
    "In this part, the goal is to create a function called `print_circum` that takes an argument for the radius of a circle and prints the circumference of that circle. The formula for the circumference is $2\\pi r$, where $\\pi$ is equal to $3.14159$ (rounded to five decimal places). After defining this function, we will call it three times with different radius values to demonstrate its use.\n",
    "<span>\n",
    "    \n",
    "### Input & Output "
   ]
  },
  {
   "cell_type": "code",
   "execution_count": 30,
   "id": "f4dc1465",
   "metadata": {},
   "outputs": [
    {
     "name": "stdout",
     "output_type": "stream",
     "text": [
      "The circumference of a circle with radius 5 is: 31.41590\n",
      "The circumference of a circle with radius 8.5 is: 53.40703\n",
      "The circumference of a circle with radius 11 is: 69.11498\n"
     ]
    }
   ],
   "source": [
    "pi = 3.14159\n",
    "\n",
    "def print_circum(radius):\n",
    "    circumference = 2 * pi * radius\n",
    "    print(f\"The circumference of a circle with radius {radius} is: {circumference:.5f}\")\n",
    "\n",
    "# Call the function with different values for radius\n",
    "print_circum(5)\n",
    "print_circum(8.5)\n",
    "print_circum(11)\n"
   ]
  },
  {
   "cell_type": "markdown",
   "id": "43d8ddae",
   "metadata": {},
   "source": [
    "###  Explanation:\n",
    "<span style=\"font-family: 'Times New Roman'; font-size: 12pt;\">\n",
    "- pi = 3.14159: Defines the value of $\\pi$.\n",
    "\n",
    "- `def print_circum(radius):`: Defines a function called `print_circum` that takes a radius as an argument.\n",
    "\n",
    "- `circumference = 2 * pi * radius`: Calculates the circumference using the formula $2\\pi r$.\n",
    "\n",
    "- `print(f\"The circumference of a circle with radius {radius}` is: {circumference:.5f}\"): Prints the result with a formatted string showing the radius and circumference rounded to five decimal places.\n",
    "\n",
    "- Finally, the function is called three times with different radius values to showcase its functionality.\n",
    "<span>"
   ]
  },
  {
   "cell_type": "markdown",
   "id": "d1720f11",
   "metadata": {},
   "source": [
    "\n",
    "## Part 2: Company Catalog\n",
    "\n",
    "<span style=\"font-family: 'Times New Roman'; font-size: 12pt;\">\n",
    "In this part, we embark on a project where we develop a catalog for a company that sells three different items. The uniqueness lies in the fact that a customer can purchase individual items, combinations of any two items, or a gift pack containing all three items. There are special considerations for discounts, for instance, no discount for individual items, a $10\\%$ discount for combos of two items, and a $25\\%$ discount for the gift set. We need to write a function to model this scenario, perform the necessary calculations, and display the generated catalog.\n",
    "<span>\n",
    "    \n",
    "### Input & Output "
   ]
  },
  {
   "cell_type": "code",
   "execution_count": 32,
   "id": "907e1b7b",
   "metadata": {
    "scrolled": true
   },
   "outputs": [
    {
     "name": "stdout",
     "output_type": "stream",
     "text": [
      "Online Store\n",
      "___________________________________\n",
      "Product(s)                                    Price     \n",
      "Item 1                                        200.0     \n",
      "Item 2                                        400.0     \n",
      "Item 3                                        600.0     \n",
      "Combo 1 (Item 1 + Item 2)                     540.0     \n",
      "Combo 2 (Item 2 + Item 3)                     900.0     \n",
      "Combo 3 (Item 1 + Item 3)                     720.0     \n",
      "Combo 4 (Item 1 + Item 2 + Item 3)            900.0     \n",
      "___________________________________\n",
      "For delivery Contact : 98764678899\n"
     ]
    }
   ],
   "source": [
    "def calculate_discount(item_count):\n",
    "    \"\"\"\n",
    "    Parameters:\n",
    "      - item_count (int): The number of items in the purchase.\n",
    "    Returns:\n",
    "      - float: The discount percentage.\n",
    "    \"\"\"\n",
    "    if item_count == 1:\n",
    "        return 0\n",
    "    elif item_count == 2:\n",
    "        return 0.10\n",
    "    elif item_count == 3:\n",
    "        return 0.25\n",
    "\n",
    "def calculate_total_cost(items, item_prices):\n",
    "    \"\"\"\n",
    "    Parameters:\n",
    "      - items (list): List of items.\n",
    "      - item_prices (dict): Dictionary containing the unit prices of items.\n",
    "    Returns:\n",
    "      - float: The total cost after applying the discount.\n",
    "    \"\"\"\n",
    "    total_cost = sum(item_prices[item] for item in items)\n",
    "    discount = calculate_discount(len(items))\n",
    "    total_cost *= (1 - discount)\n",
    "    return total_cost\n",
    "\n",
    "def generate_catalog():\n",
    "    # Dictionary containing the prices for individual items\n",
    "    item_prices = {'Item 1': 200.0, 'Item 2': 400.0, 'Item 3': 600.0}\n",
    "    # List of tuples representing different combos of items\n",
    "    combos = [('Item 1', 'Item 2'), ('Item 2', 'Item 3'), ('Item 1', 'Item 3'), ('Item 1', 'Item 2', 'Item 3')]\n",
    "\n",
    "    # Print the header of the catalog\n",
    "    print(\"Online Store\")\n",
    "    print(\"_\" * 35)\n",
    "    print(\"{:<45} {:<10}\".format(\"Product(s)\", \"Price\"))\n",
    "\n",
    "    # Print individual items and their prices\n",
    "    for item, price in item_prices.items():\n",
    "        print(\"{:<45} {:<10}\".format(item, price))\n",
    "\n",
    "    # Print combos and their total prices after applying discounts\n",
    "    for i, combo in enumerate(combos, start=1):\n",
    "        combo_name = f\"Combo {i} ({' + '.join(combo)})\"\n",
    "        total_cost = calculate_total_cost(combo, item_prices)\n",
    "        print(\"{:<45} {:<10}\".format(combo_name, total_cost))\n",
    "\n",
    "    # Print the footer of the catalog\n",
    "    print(\"_\" * 35)\n",
    "    print(\"For delivery Contact : 98764678899\")\n",
    "\n",
    "# Example: Generate and print the catalog\n",
    "generate_catalog()"
   ]
  },
  {
   "cell_type": "markdown",
   "id": "37d33f1e",
   "metadata": {},
   "source": [
    "### Function Features:\n",
    "<span style=\"font-family: 'Times New Roman'; font-size: 12pt;\">\n",
    "    \n",
    "- The calculate_discount function determines the discount percentage based on the number of items in a purchase. It considers three scenarios: no discount for one item, $10\\%$ for two items, and $25\\%$ for three items.\n",
    "    \n",
    "- The calculate_total_cost function computes the total cost of a purchase, factoring in the number of items, their unit price, and any applicable discount.\n",
    "    \n",
    "- The generate_catalog function assembles and prints the online store catalog. It includes individual items with their prices, various combos, and their respective total prices after applying discounts.\n",
    "<span>"
   ]
  },
  {
   "cell_type": "markdown",
   "id": "377dc5b2",
   "metadata": {},
   "source": [
    "## References:\n",
    "<span style=\"font-family: 'Times New Roman'; font-size: 12pt;\">\n",
    "    \n",
    "- Downey, A. (2015). Think Python: How to think like a computer scientist. Green Tree Press. [Link](https://greenteapress.com/thinkpython2/thinkpython2.pdf)\n",
    "    \n",
    "- Personal ressources (Programming_Assignment_Unit-2.ipynb) https://github.com/VirtuelsDev/UoPeople/tree/598e5f42ffe18bd923b9b9bb420b2e4bd3a79981/CS-1101_Programming-Fundamentals/Unit%202\n",
    "<span>"
   ]
  },
  {
   "cell_type": "code",
   "execution_count": null,
   "id": "021ce2ff",
   "metadata": {},
   "outputs": [],
   "source": []
  }
 ],
 "metadata": {
  "kernelspec": {
   "display_name": "Python 3 (ipykernel)",
   "language": "python",
   "name": "python3"
  },
  "language_info": {
   "codemirror_mode": {
    "name": "ipython",
    "version": 3
   },
   "file_extension": ".py",
   "mimetype": "text/x-python",
   "name": "python",
   "nbconvert_exporter": "python",
   "pygments_lexer": "ipython3",
   "version": "3.10.9"
  }
 },
 "nbformat": 4,
 "nbformat_minor": 5
}
