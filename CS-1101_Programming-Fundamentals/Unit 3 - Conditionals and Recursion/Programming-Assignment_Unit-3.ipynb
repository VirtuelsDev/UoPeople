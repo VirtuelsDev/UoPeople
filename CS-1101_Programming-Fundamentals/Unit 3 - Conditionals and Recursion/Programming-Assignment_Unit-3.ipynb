{
 "cells": [
  {
   "cell_type": "code",
   "execution_count": null,
   "id": "5bc6eabc",
   "metadata": {},
   "outputs": [],
   "source": []
  },
  {
   "cell_type": "markdown",
   "id": "545acc3a",
   "metadata": {},
   "source": [
    "## Q1: Recursive Countdown and Countup Functions\n",
    "\n",
    "In Chapter 5 of \"Think Python: How to think like a computer scientist,\" we encountered a countdown function, which prints numbers in descending order until it reaches zero. Let's extend this concept by creating a new recursive function called `countup` that counts \"up\" from a negative number. The output of running the function should resemble the following:\n",
    "### *Code & Output*"
   ]
  },
  {
   "cell_type": "code",
   "execution_count": 13,
   "id": "abc0820b",
   "metadata": {},
   "outputs": [
    {
     "name": "stdout",
     "output_type": "stream",
     "text": [
      "Enter a number: 5\n",
      "5\n",
      "4\n",
      "3\n",
      "2\n",
      "1\n",
      "Blastoff!\n"
     ]
    }
   ],
   "source": [
    "def countdown(n):\n",
    "    if n == 0:\n",
    "        print('Blastoff!')\n",
    "    else:\n",
    "        print(n)\n",
    "        countdown(n-1)\n",
    "\n",
    "def countup(n):\n",
    "    if n == 0:\n",
    "        print('Blastoff!')\n",
    "    else:\n",
    "        print(n)\n",
    "        countup(n+1)\n",
    "        \n",
    "# Get user input\n",
    "number = int(input(\"Enter a number: \"))\n",
    "\n",
    "# Decide which function to call based on the input\n",
    "if number > 0:\n",
    "    countdown(number)\n",
    "elif number < 0:\n",
    "    countup(number)\n",
    "else:\n",
    "    print('Blastoff!')"
   ]
  },
  {
   "cell_type": "code",
   "execution_count": 14,
   "id": "b4f1251e",
   "metadata": {},
   "outputs": [
    {
     "name": "stdout",
     "output_type": "stream",
     "text": [
      "Enter a number: -3\n",
      "-3\n",
      "-2\n",
      "-1\n",
      "Blastoff!\n"
     ]
    }
   ],
   "source": [
    "# Get user input\n",
    "number = int(input(\"Enter a number: \"))\n",
    "\n",
    "# Decide which function to call based on the input\n",
    "if number > 0:\n",
    "    countdown(number)\n",
    "elif number < 0:\n",
    "    countup(number)\n",
    "else:\n",
    "    print('Blastoff!')"
   ]
  },
  {
   "cell_type": "code",
   "execution_count": 15,
   "id": "57108764",
   "metadata": {},
   "outputs": [
    {
     "name": "stdout",
     "output_type": "stream",
     "text": [
      "Enter a number: 0\n",
      "Blastoff!\n"
     ]
    }
   ],
   "source": [
    "# Get user input\n",
    "number = int(input(\"Enter a number: \"))\n",
    "\n",
    "# Decide which function to call based on the input\n",
    "if number > 0:\n",
    "    countdown(number)\n",
    "elif number < 0:\n",
    "    countup(number)\n",
    "else:\n",
    "    print('Blastoff!')"
   ]
  },
  {
   "cell_type": "markdown",
   "id": "1e687481",
   "metadata": {},
   "source": [
    "### *Explanation:*\n",
    "1. **countdown and countup Functions:** These recursive functions showcase the flexibility of recursion. countdown counts down to zero, while countup counts up, both printing each step.\n",
    "\n",
    "2. **User Input:** The program takes an integer input from the user, allowing exploration of both functions.\n",
    "\n",
    "3. **Function Call Decision:**\n",
    "   - If the input is positive, it calls `countdown` with the positive number.\n",
    "   - If the input is negative, it calls `countup` with the negative number.\n",
    "   - If the input is zero, it directly prints \"Blastoff!\"\n"
   ]
  },
  {
   "cell_type": "markdown",
   "id": "52d041cb",
   "metadata": {},
   "source": [
    "## Q2: Division by Zero Error Handling\n",
    "\n",
    "To illustrate the importance of error handling, we intentionally create a program where a division by zero error can occur. The following Python program prompts the user to enter two numbers, performs a division operation, and raises a runtime error if the second number is zero:\n",
    "\n",
    "### *Code & Output*"
   ]
  },
  {
   "cell_type": "code",
   "execution_count": 17,
   "id": "9dc98480",
   "metadata": {},
   "outputs": [
    {
     "name": "stdout",
     "output_type": "stream",
     "text": [
      "Enter the numerator: 5\n",
      "Enter the denominator: 0\n"
     ]
    },
    {
     "ename": "ValueError",
     "evalue": "Error: Division by zero is not allowed.",
     "output_type": "error",
     "traceback": [
      "\u001b[1;31m---------------------------------------------------------------------------\u001b[0m",
      "\u001b[1;31mValueError\u001b[0m                                Traceback (most recent call last)",
      "Cell \u001b[1;32mIn[17], line 7\u001b[0m\n\u001b[0;32m      5\u001b[0m \u001b[38;5;66;03m# Introduce a condition for division by zero\u001b[39;00m\n\u001b[0;32m      6\u001b[0m \u001b[38;5;28;01mif\u001b[39;00m denominator \u001b[38;5;241m==\u001b[39m \u001b[38;5;241m0\u001b[39m:\n\u001b[1;32m----> 7\u001b[0m     \u001b[38;5;28;01mraise\u001b[39;00m \u001b[38;5;167;01mValueError\u001b[39;00m(\u001b[38;5;124m\"\u001b[39m\u001b[38;5;124mError: Division by zero is not allowed.\u001b[39m\u001b[38;5;124m\"\u001b[39m)\n\u001b[0;32m      8\u001b[0m \u001b[38;5;28;01melse\u001b[39;00m:\n\u001b[0;32m      9\u001b[0m     \u001b[38;5;66;03m# Perform the division operation\u001b[39;00m\n\u001b[0;32m     10\u001b[0m     result \u001b[38;5;241m=\u001b[39m numerator \u001b[38;5;241m/\u001b[39m denominator\n",
      "\u001b[1;31mValueError\u001b[0m: Error: Division by zero is not allowed."
     ]
    }
   ],
   "source": [
    "# Get two numbers from the user\n",
    "numerator = float(input(\"Enter the numerator: \"))\n",
    "denominator = float(input(\"Enter the denominator: \"))\n",
    "\n",
    "# Introduce a condition for division by zero\n",
    "if denominator == 0:\n",
    "    raise ValueError(\"Error: Division by zero is not allowed.\")\n",
    "else:\n",
    "    # Perform the division operation\n",
    "    result = numerator / denominator\n",
    "    print(f\"The result of {numerator} / {denominator} is: {result}\")"
   ]
  },
  {
   "cell_type": "code",
   "execution_count": 18,
   "id": "ae66e3f3",
   "metadata": {},
   "outputs": [
    {
     "name": "stdout",
     "output_type": "stream",
     "text": [
      "Enter the numerator: 10\n",
      "Enter the denominator: 2\n",
      "The result of 10.0 / 2.0 is: 5.0\n"
     ]
    }
   ],
   "source": [
    "# Get two numbers from the user\n",
    "numerator = float(input(\"Enter the numerator: \"))\n",
    "denominator = float(input(\"Enter the denominator: \"))\n",
    "\n",
    "# Introduce a condition for division by zero\n",
    "if denominator == 0:\n",
    "    raise ValueError(\"Error: Division by zero is not allowed.\")\n",
    "else:\n",
    "    # Perform the division operation\n",
    "    result = numerator / denominator\n",
    "    print(f\"The result of {numerator} / {denominator} is: {result}\")"
   ]
  },
  {
   "cell_type": "markdown",
   "id": "f0464cdd",
   "metadata": {},
   "source": [
    "### *Explanation:*\n",
    "\n",
    "1. The program takes two numbers (numerator and denominator) as input from the user.\n",
    "\n",
    "2. It checks if the denominator is zero and raises a `ValueError` with a descriptive error message if true.\n",
    "\n",
    "3. If the denominator is not zero, it performs the division and prints the result.\n"
   ]
  },
  {
   "cell_type": "markdown",
   "id": "a970e2a9",
   "metadata": {},
   "source": [
    "\n",
    "## Significance of Error Handling:\n",
    "\n",
    "Error handling is crucial to prevent unexpected program termination and provide meaningful feedback to users. In the division by zero scenario, without error handling, the program would crash, and users wouldn't know the cause. Handling such errors improves user experience, aids in debugging, and ensures program robustness. Ignoring these errors can lead to incorrect results and compromise the integrity of the program.\n"
   ]
  },
  {
   "cell_type": "markdown",
   "id": "e58c2d34",
   "metadata": {},
   "source": [
    "## References:\n",
    "\n",
    "- Downey, A. (2015). Think Python: How to think like a computer scientist. Green Tree Press.\n",
    "\n",
    "- Personal references : "
   ]
  }
 ],
 "metadata": {
  "kernelspec": {
   "display_name": "Python 3 (ipykernel)",
   "language": "python",
   "name": "python3"
  },
  "language_info": {
   "codemirror_mode": {
    "name": "ipython",
    "version": 3
   },
   "file_extension": ".py",
   "mimetype": "text/x-python",
   "name": "python",
   "nbconvert_exporter": "python",
   "pygments_lexer": "ipython3",
   "version": "3.10.9"
  }
 },
 "nbformat": 4,
 "nbformat_minor": 5
}
