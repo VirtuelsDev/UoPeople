{
 "cells": [
  {
   "cell_type": "markdown",
   "id": "0798ae0d",
   "metadata": {},
   "source": [
    "# Part 1:\n",
    "## (a): Displayed name, shared the code, and output, and justified the output or error"
   ]
  },
  {
   "cell_type": "code",
   "execution_count": 19,
   "id": "53b4331e",
   "metadata": {},
   "outputs": [
    {
     "ename": "SyntaxError",
     "evalue": "unterminated string literal (detected at line 2) (73454573.py, line 2)",
     "output_type": "error",
     "traceback": [
      "\u001b[1;36m  Cell \u001b[1;32mIn[19], line 2\u001b[1;36m\u001b[0m\n\u001b[1;33m    print(\"Benewende)  # Missing closing quotation mark\u001b[0m\n\u001b[1;37m          ^\u001b[0m\n\u001b[1;31mSyntaxError\u001b[0m\u001b[1;31m:\u001b[0m unterminated string literal (detected at line 2)\n"
     ]
    }
   ],
   "source": [
    "# Attempting to print a name with missing closing quotation mark\n",
    "print(\"Benewende)  # Missing closing quotation mark"
   ]
  },
  {
   "cell_type": "code",
   "execution_count": 20,
   "id": "8d8bae2e",
   "metadata": {},
   "outputs": [
    {
     "ename": "SyntaxError",
     "evalue": "unterminated string literal (detected at line 2) (3286124359.py, line 2)",
     "output_type": "error",
     "traceback": [
      "\u001b[1;36m  Cell \u001b[1;32mIn[20], line 2\u001b[1;36m\u001b[0m\n\u001b[1;33m    print(Pierre\")  # Missing opening quotation mark\u001b[0m\n\u001b[1;37m                ^\u001b[0m\n\u001b[1;31mSyntaxError\u001b[0m\u001b[1;31m:\u001b[0m unterminated string literal (detected at line 2)\n"
     ]
    }
   ],
   "source": [
    "# Attempting to print a name with missing opening quotation mark\n",
    "print(Pierre\")  # Missing opening quotation mark"
   ]
  },
  {
   "cell_type": "code",
   "execution_count": 21,
   "id": "bcf0fbb5",
   "metadata": {},
   "outputs": [
    {
     "ename": "NameError",
     "evalue": "name 'BONKOUNGOU' is not defined",
     "output_type": "error",
     "traceback": [
      "\u001b[1;31m---------------------------------------------------------------------------\u001b[0m",
      "\u001b[1;31mNameError\u001b[0m                                 Traceback (most recent call last)",
      "Cell \u001b[1;32mIn[21], line 2\u001b[0m\n\u001b[0;32m      1\u001b[0m \u001b[38;5;66;03m# Attempting to print a lastname with no quotation mark\u001b[39;00m\n\u001b[1;32m----> 2\u001b[0m \u001b[38;5;28mprint\u001b[39m(\u001b[43mBONKOUNGOU\u001b[49m)\n",
      "\u001b[1;31mNameError\u001b[0m: name 'BONKOUNGOU' is not defined"
     ]
    }
   ],
   "source": [
    "# Attempting to print a lastname with no quotation mark\n",
    "print(BONKOUNGOU)     # No quotation marks"
   ]
  },
  {
   "cell_type": "markdown",
   "id": "b61ad61b",
   "metadata": {},
   "source": [
    "## Explanation:\n",
    "### Print name by omitting one of the quotes (opening or closing).\n",
    "Printing my name requires enclosing it in matching quotation marks. The first two statements, if executed without one of the quotes (opening or closing), will yield a `SyntaxError:` `unterminated string literal` ([Jones, 2019]). \n",
    "\n",
    "### Print my name by omitting the quotes (opening and closing).\n",
    "Similarly, attempting to print my name without any quotes (opening and closing) in the third statement will result in a `NameError`. Python interprets `BONKOUNGOU` as a variable, but it's not defined, causing an error([Downey, 2015]).. Always ensure to enclose strings properly to avoid these common syntax and variable reference errors in Python."
   ]
  },
  {
   "cell_type": "markdown",
   "id": "c758dea9",
   "metadata": {},
   "source": [
    "## (b): Difference in * and ** operators along with example code and output\n",
    "In Python, the `*` and `**` operators are also used for multiplication and exponentiation, respectively.\n",
    "\n",
    "   - `*` is the multiplication operator;\n",
    "   - `**` is the exponentiation operator. It raises the number on the left to the power of the number on the right. \n",
    "   \n",
    "   For example:"
   ]
  },
  {
   "cell_type": "code",
   "execution_count": 34,
   "id": "2c1c8a54",
   "metadata": {},
   "outputs": [
    {
     "name": "stdout",
     "output_type": "stream",
     "text": [
      "a*b = 15\n",
      "a**b = 125\n"
     ]
    }
   ],
   "source": [
    "a = 5\n",
    "b = 3\n",
    "print(f\"a*b = {a * b}\")  # Outputs: 15\n",
    "print(f\"a**b = {a ** b}\")  # Outputs: 125"
   ]
  },
  {
   "cell_type": "markdown",
   "id": "8f74bb35",
   "metadata": {},
   "source": [
    "## Explanation:\n",
    "The `*` and `**` operators are both used for arithmetic operations in Python, but they have different meanings and effects. The `*` operator performs multiplication, which is the repeated addition of a number by itself. For example, `5 * 3` means adding 5 three times, which is `15`. The`**` operator performs exponentiation, which is the repeated multiplication of a number by itself. For example, `5 ** 3` means multiplying `5` by itself three times, which is `125`.\n",
    "\n",
    "Multiplication and exponentiation are related, but not the same. Multiplication is a simpler and more common operation than exponentiation. Exponentiation is a more complex and powerful operation than multiplication. Exponentiation can produce much larger numbers than multiplication, even with small inputs. "
   ]
  },
  {
   "cell_type": "markdown",
   "id": "ce4007f9",
   "metadata": {},
   "source": [
    "## (c): Code is shared and justified"
   ]
  },
  {
   "cell_type": "code",
   "execution_count": 23,
   "id": "ad02e66d",
   "metadata": {},
   "outputs": [
    {
     "ename": "SyntaxError",
     "evalue": "leading zeros in decimal integer literals are not permitted; use an 0o prefix for octal integers (3991759954.py, line 2)",
     "output_type": "error",
     "traceback": [
      "\u001b[1;36m  Cell \u001b[1;32mIn[23], line 2\u001b[1;36m\u001b[0m\n\u001b[1;33m    print(09)\u001b[0m\n\u001b[1;37m          ^\u001b[0m\n\u001b[1;31mSyntaxError\u001b[0m\u001b[1;31m:\u001b[0m leading zeros in decimal integer literals are not permitted; use an 0o prefix for octal integers\n"
     ]
    }
   ],
   "source": [
    "# Attempting to display an integer like 09\n",
    "print(09)"
   ]
  },
  {
   "cell_type": "markdown",
   "id": "3136e0b4",
   "metadata": {},
   "source": [
    "### Explanation:\n",
    "No, it's not possible to display an integer with a leading zero like 09 in Python ([Lutz, 2013]). Python interprets numbers starting with 0 as octal literals. However, 09 is not a valid octal number, leading to a `SyntaxError: leading zeros in decimal integer literals are not permitted`; `use an 0o prefix for octal integers`."
   ]
  },
  {
   "cell_type": "markdown",
   "id": "64de1b4b",
   "metadata": {},
   "source": [
    "## (d): Code and output are shared along with the explanation of the difference"
   ]
  },
  {
   "cell_type": "code",
   "execution_count": 33,
   "id": "83c02016",
   "metadata": {},
   "outputs": [
    {
     "name": "stdout",
     "output_type": "stream",
     "text": [
      "<class 'str'>\n",
      "<class 'int'>\n"
     ]
    }
   ],
   "source": [
    "# Using the type() function on a string\n",
    "print(type('67'))\n",
    "# Using the type() function on a integer\n",
    "print(type(67))"
   ]
  },
  {
   "cell_type": "markdown",
   "id": "5681a289",
   "metadata": {},
   "source": [
    "### Explanation:\n",
    "The type function in Python returns the data type of the object passed as an argument. The strings are locked in quotes `(' ')`, while the whole are not. The strings may contain characters, while the integers can only contain figures. The chains are immutable, which means that they cannot be modified once created, while the integers are mutable, which means that they can be modified by arithmetic operations. The strings and integers have different methods and behaviors in Python ([Downey, 2015])..\n",
    "\n",
    "### For example\n",
    "Strings can be concatenated with the + operator, while integers can be added with the + operator."
   ]
  },
  {
   "cell_type": "code",
   "execution_count": 26,
   "id": "9ae3af2f",
   "metadata": {},
   "outputs": [
    {
     "name": "stdout",
     "output_type": "stream",
     "text": [
      "<class 'str'>\n",
      "<class 'int'>\n",
      "a + a = 6767\n",
      "b + b = 134\n"
     ]
    }
   ],
   "source": [
    "a, b = '67', 67\n",
    "print(type(a))  # Outputs: <class 'str'>\n",
    "print(type(b))  # Outputs: <class 'int'>\n",
    "print(f\"a + a = {a + a}\")  # Outputs: 6767\n",
    "print(f\"b + b = {b + b}\")  # Outputs: 134\n"
   ]
  },
  {
   "cell_type": "markdown",
   "id": "1797d1c8",
   "metadata": {},
   "source": [
    "# Part 2\n",
    "## (a): To multiply your age by 2 and display it."
   ]
  },
  {
   "cell_type": "code",
   "execution_count": 27,
   "id": "985ed941",
   "metadata": {},
   "outputs": [
    {
     "name": "stdout",
     "output_type": "stream",
     "text": [
      "The age multiplied by 2 is : 66\n"
     ]
    }
   ],
   "source": [
    "# Multiplying age by 2 and displaying the result\n",
    "age = 33\n",
    "result = age * 2\n",
    "print(f\"The age multiplied by 2 is : {result}\")"
   ]
  },
  {
   "cell_type": "markdown",
   "id": "aa8b5b23",
   "metadata": {},
   "source": [
    "### Explanation:\n",
    "This code multiplies the age variable by 2 and prints the result, allowing for easy modification based on different age values ([Lutz, 2013])."
   ]
  },
  {
   "cell_type": "markdown",
   "id": "8e688d96",
   "metadata": {},
   "source": [
    "## (b): Display the name of the city, country, and continent you are living in python"
   ]
  },
  {
   "cell_type": "code",
   "execution_count": 28,
   "id": "e6df8f52",
   "metadata": {},
   "outputs": [
    {
     "name": "stdout",
     "output_type": "stream",
     "text": [
      "City: Ouagadougou\n",
      "Country: Burkina Faso\n",
      "Continent: Africa\n"
     ]
    }
   ],
   "source": [
    "# Displaying information about the location\n",
    "city = \"Ouagadougou\"\n",
    "country = \"Burkina Faso\"\n",
    "continent = \"Africa\"\n",
    "print(f\"City: {city}\\nCountry: {country}\\nContinent: {continent}\")"
   ]
  },
  {
   "cell_type": "markdown",
   "id": "c30b86fd",
   "metadata": {},
   "source": [
    "### Explanation:\n",
    "This code prints information about the city, country, and continent using formatted strings for better readability ([Downey, 2015])."
   ]
  },
  {
   "cell_type": "markdown",
   "id": "d05d21f9",
   "metadata": {},
   "source": [
    "## (c): To display the examination schedule (i.e., the starting and the ending day) of this term."
   ]
  },
  {
   "cell_type": "code",
   "execution_count": 29,
   "id": "12c84d0b",
   "metadata": {},
   "outputs": [
    {
     "name": "stdout",
     "output_type": "stream",
     "text": [
      "Exam Schedule: 11 January 2024 to 14 January 2024\n"
     ]
    }
   ],
   "source": [
    "# Displaying examination schedule\n",
    "exam_start_date = \"11 January 2024\"\n",
    "exam_end_date = \"14 January 2024\"\n",
    "print(f\"Exam Schedule: {exam_start_date} to {exam_end_date}\")"
   ]
  },
  {
   "cell_type": "markdown",
   "id": "14575619",
   "metadata": {},
   "source": [
    "### Explanation:\n",
    "The code displays the examination schedule with the start and end dates, providing a clear representation ([Rossum, 2003])."
   ]
  },
  {
   "cell_type": "markdown",
   "id": "c4876fc6",
   "metadata": {},
   "source": [
    "## (d): Display the temperature of your country on the day the assignment is attempted by you."
   ]
  },
  {
   "cell_type": "code",
   "execution_count": 30,
   "id": "f799f86b",
   "metadata": {},
   "outputs": [
    {
     "name": "stdout",
     "output_type": "stream",
     "text": [
      "The temperature is 35 degrees Celsius.\n"
     ]
    }
   ],
   "source": [
    "# Displaying the temperature of the country\n",
    "temperature = 35  # Example temperature value\n",
    "print(f\"The temperature is {temperature} degrees Celsius.\")"
   ]
  },
  {
   "cell_type": "markdown",
   "id": "6a04a1ad",
   "metadata": {},
   "source": [
    "### Explanation:\n",
    "This code prints the temperature of the country, and the value can be adjusted based on the actual temperature ([Lutz, 2013])."
   ]
  },
  {
   "cell_type": "markdown",
   "id": "62dfcebf",
   "metadata": {},
   "source": [
    "## Conclusion:\n",
    "In this assignment, we explored various scenarios involving mistakes and experimented with different Python features. From syntax errors to understanding the use of operators, we gained insights into common pitfalls and best practices. \n",
    "\n",
    "Additionally, we created Python programs to perform specific tasks related to personal information and practical scenarios. This assignment reinforced the importance of making mistakes deliberately to enhance learning and provided hands-on experience in Python programming.\n"
   ]
  },
  {
   "cell_type": "markdown",
   "id": "45be8b6c",
   "metadata": {},
   "source": [
    "# References:\n",
    "\n",
    "- Downey, A. (2015). Think Python: How to Think Like a Computer Scientist. Green Tea Press.\n",
    "- Jones, B. (2019). Python Programming for Beginners. Packt Publishing.\n",
    "- Lutz, M. (2013). Learning Python. O'Reilly Media.\n",
    "- Rossum, G. V. (2003). Python Reference Manual. Python Software Foundation.\n",
    "- Van Rossum, G. (2021). Python Enhancement Proposals: PEP 468. Python Software Foundation."
   ]
  }
 ],
 "metadata": {
  "kernelspec": {
   "display_name": "Python 3 (ipykernel)",
   "language": "python",
   "name": "python3"
  },
  "language_info": {
   "codemirror_mode": {
    "name": "ipython",
    "version": 3
   },
   "file_extension": ".py",
   "mimetype": "text/x-python",
   "name": "python",
   "nbconvert_exporter": "python",
   "pygments_lexer": "ipython3",
   "version": "3.10.9"
  }
 },
 "nbformat": 4,
 "nbformat_minor": 5
}
